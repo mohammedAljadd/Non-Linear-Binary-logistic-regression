{
 "cells": [
  {
   "cell_type": "markdown",
   "metadata": {},
   "source": [
    "# Libraries"
   ]
  },
  {
   "cell_type": "code",
   "execution_count": 17,
   "metadata": {},
   "outputs": [],
   "source": [
    "from sklearn import datasets                        \n",
    "import pandas as pd\n",
    "import numpy as np\n",
    "import matplotlib.pyplot as plt\n",
    "from sklearn.model_selection import train_test_split"
   ]
  },
  {
   "cell_type": "markdown",
   "metadata": {},
   "source": [
    "# Functions"
   ]
  },
  {
   "cell_type": "code",
   "execution_count": 29,
   "metadata": {},
   "outputs": [],
   "source": [
    "def sigmoid(z):\n",
    "    sig = 1 / (1 + np.exp(-z))\n",
    "    return sig\n",
    "\n",
    "def mapFeature(X1, X2, degree):\n",
    "    res = np.ones(X1.shape[0])\n",
    "    for i in range(1,degree + 1):\n",
    "        for j in range(0,i + 1):\n",
    "            res = np.column_stack((res, (X1 ** (i-j)) * (X2 ** j)))\n",
    "    return res\n",
    "\n",
    "def plotDecisionBoundary(theta,degree, axes):\n",
    "    u = np.linspace(-1, 1.5, 50)\n",
    "    v = np.linspace(-1, 1.5, 50)\n",
    "    U,V = np.meshgrid(u,v)\n",
    "    # convert U, V to vectors for calculating additional features\n",
    "    # using vectorized implementation\n",
    "    U = np.ravel(U)\n",
    "    V = np.ravel(V)\n",
    "    Z = np.zeros((len(u) * len(v)))\n",
    "    \n",
    "    # Feature mapping\n",
    "    X_poly = mapFeature(U, V, degree)\n",
    "    X_poly = np.hstack((np.ones((X_poly.shape[0],1)),X_poly))\n",
    "    Z = X_poly.dot(theta)\n",
    "\n",
    "    # reshape U, V, Z back to matrix\n",
    "    U = U.reshape((len(u), len(v)))\n",
    "    V = V.reshape((len(u), len(v)))\n",
    "    Z = Z.reshape((len(u), len(v)))\n",
    "    \n",
    "    cs = axes.contour(U,V,Z,levels=[0],cmap= \"Greys_r\")\n",
    "    axes.legend(labels=['class 1', 'class 0', 'Decision Boundary'])\n",
    "    return cs"
   ]
  },
  {
   "cell_type": "markdown",
   "metadata": {},
   "source": [
    "# Variables and dataset"
   ]
  },
  {
   "cell_type": "code",
   "execution_count": 30,
   "metadata": {},
   "outputs": [],
   "source": [
    "data = pd.read_csv('data.txt',header=None)\n",
    "data = data.to_numpy()\n",
    "m = data.shape[0]\n",
    "x1 = data[:,0].reshape((m, 1))\n",
    "x2 = data[:,1].reshape((m, 1))\n",
    "y = data[:,2].reshape((m, 1))\n",
    "x = np.hstack((x1,x2))\n",
    "\n",
    "X_train,X_test,y_train,y_test = train_test_split(x,y,test_size=0.1, random_state=0)\n",
    "degree = 6"
   ]
  },
  {
   "cell_type": "markdown",
   "metadata": {},
   "source": [
    "# Plot data"
   ]
  },
  {
   "cell_type": "code",
   "execution_count": 31,
   "metadata": {},
   "outputs": [
    {
     "data": {
      "text/plain": [
       "<matplotlib.legend.Legend at 0x17288c5bee0>"
      ]
     },
     "execution_count": 31,
     "metadata": {},
     "output_type": "execute_result"
    },
    {
     "data": {
      "image/png": "[encoded data removed]",
      "text/plain": [
       "<Figure size 432x288 with 1 Axes>"
      ]
     },
     "metadata": {
      "needs_background": "light"
     },
     "output_type": "display_data"
    }
   ],
   "source": [
    "plt.scatter(x1[x1==x1-y],x2[x2==x2-y],c='r',label='class 0')\n",
    "plt.scatter(x1[x1!=x1-y],x2[x2!=x2-y],c='g',label='class 1')\n",
    "plt.legend()"
   ]
  },
  {
   "cell_type": "markdown",
   "metadata": {},
   "source": [
    "# Model Training "
   ]
  },
  {
   "cell_type": "code",
   "execution_count": 32,
   "metadata": {},
   "outputs": [],
   "source": [
    "from sklearn.linear_model import LogisticRegression\n",
    "logisticRegr = LogisticRegression()\n",
    "y_train = y_train.ravel()\n",
    "X_train = mapFeature(X_train[:,0], X_train[:,1], degree)\n",
    "logisticRegr.fit(X_train, y_train)\n",
    "intercept = logisticRegr.intercept_\n",
    "coefs = logisticRegr.coef_\n",
    "optimum = np.vstack((intercept,coefs.reshape(X_train.shape[1],1)))"
   ]
  },
  {
   "cell_type": "markdown",
   "metadata": {},
   "source": [
    "# Plot Decision boundary"
   ]
  },
  {
   "cell_type": "code",
   "execution_count": 33,
   "metadata": {},
   "outputs": [
    {
     "data": {
      "text/plain": [
       "<matplotlib.contour.QuadContourSet at 0x17288ccc310>"
      ]
     },
     "execution_count": 33,
     "metadata": {},
     "output_type": "execute_result"
    },
    {
     "data": {
      "image/png": "[encoded data removed]",
      "text/plain": [
       "<Figure size 432x288 with 1 Axes>"
      ]
     },
     "metadata": {
      "needs_background": "light"
     },
     "output_type": "display_data"
    }
   ],
   "source": [
    "fig, axes = plt.subplots();\n",
    "axes.set_xlabel('Feature 1')\n",
    "axes.set_ylabel('Feature 2')\n",
    "plt.scatter(x1[x1==x1-y],x2[x2==x2-y],c='r',label='class 0')\n",
    "plt.scatter(x1[x1!=x1-y],x2[x2!=x2-y],c='g',label='class 1')\n",
    "plotDecisionBoundary(optimum, degree, axes)"
   ]
  },
  {
   "cell_type": "code",
   "execution_count": 35,
   "metadata": {},
   "outputs": [
    {
     "name": "stdout",
     "output_type": "stream",
     "text": [
      "Accuracy of your model is  83.0 %\n"
     ]
    }
   ],
   "source": [
    "X_test = mapFeature(X_test[:,0], X_test[:,1], degree)\n",
    "R_test=logisticRegr.score(X_test,y_test)*100\n",
    "print('Accuracy of your model is ',np.round(R_test),'%')"
   ]
  }
 ],
 "metadata": {
  "kernelspec": {
   "display_name": "Python 3",
   "language": "python",
   "name": "python3"
  },
  "language_info": {
   "codemirror_mode": {
    "name": "ipython",
    "version": 3
   },
   "file_extension": ".py",
   "mimetype": "text/x-python",
   "name": "python",
   "nbconvert_exporter": "python",
   "pygments_lexer": "ipython3",
   "version": "3.8.3"
  }
 },
 "nbformat": 4,
 "nbformat_minor": 4
}
